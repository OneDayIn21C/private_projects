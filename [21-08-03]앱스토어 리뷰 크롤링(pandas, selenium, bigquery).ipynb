{
 "cells": [
  {
   "cell_type": "code",
   "execution_count": 1,
   "id": "fc652fb4",
   "metadata": {
    "ExecuteTime": {
     "end_time": "2021-08-03T15:47:19.744347Z",
     "start_time": "2021-08-03T15:47:18.788330Z"
    }
   },
   "outputs": [],
   "source": [
    "from selenium import webdriver\n",
    "from selenium.webdriver.common.keys import Keys\n",
    "from selenium.webdriver.remote.webelement import WebElement\n",
    "from selenium.webdriver import ActionChains\n",
    "import time\n",
    "from selenium.webdriver.support.ui import WebDriverWait\n",
    "from selenium.webdriver.support import expected_conditions as EC\n",
    "import pandas as pd\n",
    "\n",
    "import string\n",
    "import datetime \n",
    "\n",
    "from bs4 import BeautifulSoup\n",
    "import requests"
   ]
  },
  {
   "cell_type": "code",
   "execution_count": 2,
   "id": "d269ca4a",
   "metadata": {
    "ExecuteTime": {
     "end_time": "2021-08-03T15:47:19.975877Z",
     "start_time": "2021-08-03T15:47:19.754426Z"
    }
   },
   "outputs": [],
   "source": [
    "import pandas as pd\n",
    "import pymysql"
   ]
  },
  {
   "cell_type": "markdown",
   "id": "49a40f63",
   "metadata": {},
   "source": [
    "# 1.  데이터 크롤링"
   ]
  },
  {
   "cell_type": "markdown",
   "id": "37d09c1d",
   "metadata": {},
   "source": [
    "## 1-1. 동적 페이지 데이터 불러오기 (chromdriver 활용)"
   ]
  },
  {
   "cell_type": "code",
   "execution_count": 67,
   "id": "fcc33154",
   "metadata": {
    "ExecuteTime": {
     "end_time": "2021-08-03T18:15:11.506361Z",
     "start_time": "2021-08-03T18:15:04.956872Z"
    }
   },
   "outputs": [],
   "source": [
    "chromedriver = '/usr/local/bin/chromedriver'\n",
    "driver = webdriver.Chrome(chromedriver)\n",
    "\n",
    "# 앱스토어 자란다 페이지\n",
    "driver.get(\n",
    "    \"https://apps.apple.com/kr/app/%EC%9E%90%EB%9E%80%EB%8B%A4/id1469857402#see-all/reviews\"\n",
    ")\n",
    "\n",
    "# 동적 페이지의 데이터를 모두 불러오기 위해 스크롤을 가장 아래까지 내림\n",
    "\n",
    "prev_height = driver.execute_script(\"return document.body.scrollHeight\")\n",
    "while True:\n",
    "    # 스크롤을 화면 가장 아래로 내린다\n",
    "    driver.execute_script(\"window.scrollTo(0,document.body.scrollHeight)\")\n",
    "\n",
    "    # 페이지 로딩 대기\n",
    "    time.sleep(0.5)\n",
    "\n",
    "    # 현재 문서 높이를 가져와서 저장\n",
    "    curr_height = driver.execute_script(\"return document.body.scrollHeight\")\n",
    "\n",
    "    if (curr_height == prev_height):\n",
    "        break\n",
    "    else:\n",
    "        prev_height = driver.execute_script(\n",
    "            \"return document.body.scrollHeight\")"
   ]
  },
  {
   "cell_type": "markdown",
   "id": "0d23c057",
   "metadata": {},
   "source": [
    "\n",
    "## 1-2. 개별 리뷰 박스의 ID 크롤링"
   ]
  },
  {
   "cell_type": "code",
   "execution_count": 63,
   "id": "803d0763",
   "metadata": {
    "ExecuteTime": {
     "end_time": "2021-08-03T18:14:07.792226Z",
     "start_time": "2021-08-03T18:14:07.589748Z"
    }
   },
   "outputs": [
    {
     "name": "stdout",
     "output_type": "stream",
     "text": [
      "['ember89', 'ember91', 'ember93']\n",
      "\n",
      " 리뷰 박스 개수 = 44 개\n"
     ]
    }
   ],
   "source": [
    "box=driver.find_elements_by_class_name('l-column--equal-height')\n",
    "\n",
    "box_id = []\n",
    "for i in box:\n",
    "    box_id.append(i.get_attribute('id'))\n",
    "\n",
    "    \n",
    "print(box_id[:3])\n",
    "print(\"\\n 리뷰 박스 개수 =\", len(box_id),'개')"
   ]
  },
  {
   "cell_type": "markdown",
   "id": "783bb0ac",
   "metadata": {},
   "source": [
    "## 1-3. 리뷰 데이터 크롤링"
   ]
  },
  {
   "cell_type": "markdown",
   "id": "0b11199b",
   "metadata": {},
   "source": [
    "##### 앱스토어의 리뷰 데이터는 (1) 코멘트의 길이가 길거나 혹은 (2) 개발자의 답변이 있을 경우, \n",
    "##### 개별 리뷰 박스의 '더 보기' 버튼을 클릭해 데이터를 추가로 불어와야 크롤링 가능"
   ]
  },
  {
   "cell_type": "code",
   "execution_count": 64,
   "id": "108c5faf",
   "metadata": {
    "ExecuteTime": {
     "end_time": "2021-08-03T18:14:10.975799Z",
     "start_time": "2021-08-03T18:14:10.944670Z"
    }
   },
   "outputs": [
    {
     "data": {
      "text/plain": [
       "'아이가 공부를 너무 하기 싫어해서 고민이였는데 샘들이 친구처럼 놀아주면서 하니까 학습 효과가 너무 좋네요^^ 자주 애용해야겠어요. 아들두 쌤 또 언제 오냐구 그러고… 일반 학습지보다 나은듯~. 만족합니다^^'"
      ]
     },
     "execution_count": 64,
     "metadata": {},
     "output_type": "execute_result"
    }
   ],
   "source": [
    "driver.find_element_by_id('ember101').find_element_by_class_name('we-clamp').text"
   ]
  },
  {
   "cell_type": "code",
   "execution_count": 70,
   "id": "aa8e0ae7",
   "metadata": {
    "ExecuteTime": {
     "end_time": "2021-08-03T18:16:49.126913Z",
     "start_time": "2021-08-03T18:15:40.151771Z"
    },
    "hide_input": false
   },
   "outputs": [
    {
     "name": "stdout",
     "output_type": "stream",
     "text": [
      "(0, 'ember89') pass\n",
      "(1, 'ember91') pass\n",
      "(2, 'ember93') pass\n",
      "(3, 'ember95') 더 보기 클릭\n",
      "(4, 'ember97') 더 보기 클릭\n",
      "(5, 'ember99') 더 보기 클릭\n",
      "(6, 'ember101') pass\n",
      "(7, 'ember103') 더 보기 클릭\n",
      "(8, 'ember105') pass\n",
      "(9, 'ember107') 더 보기 클릭\n",
      "(10, 'ember120') 더 보기 클릭\n",
      "(11, 'ember122') 더 보기 클릭\n",
      "(12, 'ember124') pass\n",
      "(13, 'ember126') 더 보기 클릭\n",
      "(14, 'ember128') 더 보기 클릭\n",
      "(15, 'ember130') 더 보기 클릭\n",
      "(16, 'ember132') 더 보기 클릭\n",
      "(17, 'ember134') 더 보기 클릭\n",
      "(18, 'ember136') 더 보기 클릭\n",
      "(19, 'ember138') 더 보기 클릭\n",
      "(20, 'ember150') 더 보기 클릭\n",
      "(21, 'ember152') 더 보기 클릭\n",
      "(22, 'ember154') 더 보기 클릭\n",
      "(23, 'ember156') 더 보기 클릭\n",
      "(24, 'ember158') 더 보기 클릭\n",
      "(25, 'ember160') 더 보기 클릭\n",
      "(26, 'ember162') 더 보기 클릭\n",
      "(27, 'ember164') 더 보기 클릭\n",
      "(28, 'ember166') 더 보기 클릭\n",
      "(29, 'ember168') 더 보기 클릭\n",
      "(30, 'ember180') 더 보기 클릭\n",
      "(31, 'ember182') 더 보기 클릭\n",
      "(32, 'ember184') 더 보기 클릭\n",
      "(33, 'ember186') pass\n",
      "(34, 'ember188') 더 보기 클릭\n",
      "(35, 'ember190') 더 보기 클릭\n",
      "(36, 'ember192') pass\n",
      "(37, 'ember194') 더 보기 클릭\n",
      "(38, 'ember196') 더 보기 클릭\n",
      "(39, 'ember198') 더 보기 클릭\n",
      "(40, 'ember204') pass\n",
      "(41, 'ember206') 더 보기 클릭\n",
      "(42, 'ember208') pass\n",
      "(43, 'ember210') 더 보기 클릭\n",
      "\n",
      " 크롤링 완료\n"
     ]
    }
   ],
   "source": [
    "review = []\n",
    "for id in enumerate(box_id):\n",
    "    \n",
    "    # 데이터 로드 대기\n",
    "    time.sleep(1)\n",
    "\n",
    "    stars = driver.find_elements_by_class_name('we-star-rating--large') # 별점\n",
    "    date = driver.find_elements_by_class_name('we-customer-review__date') # 작성일\n",
    "    user = driver.find_elements_by_class_name('we-customer-review__user') # 작성자\n",
    "    title = driver.find_elements_by_class_name('we-customer-review__title') # 제목\n",
    "    \n",
    "    # 박스에 '더 보기' 버튼이 있을 경우\n",
    "    try:\n",
    "        # '더 보기' 클릭\n",
    "        button = driver.find_element_by_css_selector(\n",
    "            f\"#{id[1]} > div.we-customer-review.lockup > blockquote:nth-child(4) > button\"\n",
    "        )\n",
    "        button.click()\n",
    "        time.sleep(0.5)\n",
    "\n",
    "        review.append(\n",
    "            driver.find_element_by_class_name(\n",
    "                'we-customer-review__body--modal').text) #리뷰 코멘트\n",
    "        \n",
    "        # 박스 닫기\n",
    "        exit = driver.find_element_by_class_name('we-modal__close')\n",
    "        exit.click()\n",
    "        print(id, '더 보기 클릭')\n",
    "\n",
    "    except:\n",
    "        review.append(driver.find_element_by_id(f'{id[1]}').\\\n",
    "                      find_element_by_class_name('we-clamp').text) #리뷰 코멘트\n",
    "        print(id, 'pass')\n",
    "\n",
    "print('\\n 크롤링 완료')"
   ]
  },
  {
   "cell_type": "markdown",
   "id": "5f92f1cf",
   "metadata": {},
   "source": [
    "# 2. 크롤링 데이터 전처리"
   ]
  },
  {
   "cell_type": "code",
   "execution_count": 112,
   "id": "070432fe",
   "metadata": {
    "ExecuteTime": {
     "end_time": "2021-08-04T04:11:38.747740Z",
     "start_time": "2021-08-04T04:11:37.765904Z"
    }
   },
   "outputs": [
    {
     "data": {
      "text/plain": [
       "(44, 44, 44, 44)"
      ]
     },
     "execution_count": 112,
     "metadata": {},
     "output_type": "execute_result"
    }
   ],
   "source": [
    "title_lst = []\n",
    "for i in title:\n",
    "    if i.text != '개발자 답변':\n",
    "        title_lst.append(i.text)\n",
    "\n",
    "user_lst = []\n",
    "for i in user:\n",
    "    user_lst.append(i.text)\n",
    "\n",
    "date_lst = []\n",
    "for i in date:\n",
    "    z = i.get_attribute('aria-label')\n",
    "    date_lst.append(\n",
    "        # str -> datetime 변환\n",
    "        datetime.datetime.strptime(\n",
    "            z.replace('년 ', '-').replace('월 ', '-').replace('일', ''),\n",
    "            \"%Y-%m-%d\"))\n",
    "\n",
    "stars_lst = []\n",
    "for i in stars:\n",
    "    stars_lst.append(\n",
    "        # int로 변환\n",
    "        int(i.get_attribute('aria-label').split('/')[0])\n",
    "    )\n",
    "\n",
    "len(title_lst), len(date_lst), len(stars_lst), len(user_lst)"
   ]
  },
  {
   "cell_type": "code",
   "execution_count": 113,
   "id": "bc48f8ec",
   "metadata": {
    "ExecuteTime": {
     "end_time": "2021-08-04T04:11:38.919819Z",
     "start_time": "2021-08-04T04:11:38.905519Z"
    }
   },
   "outputs": [
    {
     "name": "stdout",
     "output_type": "stream",
     "text": [
      "(44, 6)\n",
      "app                object\n",
      "title              object\n",
      "user               object\n",
      "date       datetime64[ns]\n",
      "stars               int64\n",
      "comment            object\n",
      "dtype: object\n"
     ]
    },
    {
     "data": {
      "text/html": [
       "<div>\n",
       "<style scoped>\n",
       "    .dataframe tbody tr th:only-of-type {\n",
       "        vertical-align: middle;\n",
       "    }\n",
       "\n",
       "    .dataframe tbody tr th {\n",
       "        vertical-align: top;\n",
       "    }\n",
       "\n",
       "    .dataframe thead th {\n",
       "        text-align: right;\n",
       "    }\n",
       "</style>\n",
       "<table border=\"1\" class=\"dataframe\">\n",
       "  <thead>\n",
       "    <tr style=\"text-align: right;\">\n",
       "      <th></th>\n",
       "      <th>app</th>\n",
       "      <th>title</th>\n",
       "      <th>user</th>\n",
       "      <th>date</th>\n",
       "      <th>stars</th>\n",
       "      <th>comment</th>\n",
       "    </tr>\n",
       "  </thead>\n",
       "  <tbody>\n",
       "    <tr>\n",
       "      <th>0</th>\n",
       "      <td>자란다</td>\n",
       "      <td>좋아요</td>\n",
       "      <td>maum.c</td>\n",
       "      <td>2019-10-31</td>\n",
       "      <td>5</td>\n",
       "      <td>원래 쓰고 있었는데 앱 나오니 훨씬 편하고 좋아요 나름 꽤 초창기부터 써왔는데 점점...</td>\n",
       "    </tr>\n",
       "    <tr>\n",
       "      <th>1</th>\n",
       "      <td>자란다</td>\n",
       "      <td>드디어 앱이 나왔군요~~!</td>\n",
       "      <td>파랑땡땡구리</td>\n",
       "      <td>2019-07-13</td>\n",
       "      <td>5</td>\n",
       "      <td>항상 감사하고 있습니다. 우리 애들 자란다 선생님 너무 좋아해요. 계속 자란다 선생...</td>\n",
       "    </tr>\n",
       "    <tr>\n",
       "      <th>2</th>\n",
       "      <td>자란다</td>\n",
       "      <td>선생님이 너무좋았답니다.</td>\n",
       "      <td>terry11117</td>\n",
       "      <td>2020-03-26</td>\n",
       "      <td>5</td>\n",
       "      <td>다른 돌봄회사들보다 체계적이어서 감동받았어요. 우선 자란다 선생님의 선택의 폭이 넓...</td>\n",
       "    </tr>\n",
       "    <tr>\n",
       "      <th>3</th>\n",
       "      <td>자란다</td>\n",
       "      <td>아이들이 자란다 선생님을 너무 좋아해요~~</td>\n",
       "      <td>ysmom23</td>\n",
       "      <td>2019-09-19</td>\n",
       "      <td>5</td>\n",
       "      <td>엄마는 힘들어서 못해주는 몸으로 놀아주기.. 자란쌤이 아이와 함께 놀아주니 아이가 ...</td>\n",
       "    </tr>\n",
       "    <tr>\n",
       "      <th>4</th>\n",
       "      <td>자란다</td>\n",
       "      <td>맞벌이 부부에게 큰 힘이 됩니다</td>\n",
       "      <td>별2개</td>\n",
       "      <td>2021-07-30</td>\n",
       "      <td>5</td>\n",
       "      <td>이런 리뷰를 잘 안쓰는데 자란다에게 고마운 마음을 표현하고자 끄적여봅니다^^\\n\\n...</td>\n",
       "    </tr>\n",
       "  </tbody>\n",
       "</table>\n",
       "</div>"
      ],
      "text/plain": [
       "   app                    title        user       date  stars  \\\n",
       "0  자란다                      좋아요      maum.c 2019-10-31      5   \n",
       "1  자란다           드디어 앱이 나왔군요~~!      파랑땡땡구리 2019-07-13      5   \n",
       "2  자란다            선생님이 너무좋았답니다.  terry11117 2020-03-26      5   \n",
       "3  자란다  아이들이 자란다 선생님을 너무 좋아해요~~     ysmom23 2019-09-19      5   \n",
       "4  자란다        맞벌이 부부에게 큰 힘이 됩니다         별2개 2021-07-30      5   \n",
       "\n",
       "                                             comment  \n",
       "0  원래 쓰고 있었는데 앱 나오니 훨씬 편하고 좋아요 나름 꽤 초창기부터 써왔는데 점점...  \n",
       "1  항상 감사하고 있습니다. 우리 애들 자란다 선생님 너무 좋아해요. 계속 자란다 선생...  \n",
       "2  다른 돌봄회사들보다 체계적이어서 감동받았어요. 우선 자란다 선생님의 선택의 폭이 넓...  \n",
       "3  엄마는 힘들어서 못해주는 몸으로 놀아주기.. 자란쌤이 아이와 함께 놀아주니 아이가 ...  \n",
       "4  이런 리뷰를 잘 안쓰는데 자란다에게 고마운 마음을 표현하고자 끄적여봅니다^^\\n\\n...  "
      ]
     },
     "execution_count": 113,
     "metadata": {},
     "output_type": "execute_result"
    }
   ],
   "source": [
    "df = pd.DataFrame()\n",
    "\n",
    "df['app'] = ['자란다' for i in range(len(title_lst))]\n",
    "df['title'] = title_lst\n",
    "df['user'] = user_lst\n",
    "df['date'] = date_lst\n",
    "df['stars'] = stars_lst\n",
    "df['comment'] = review\n",
    "\n",
    "\n",
    "print(df.shape)\n",
    "print(df.dtypes)\n",
    "df.head()"
   ]
  },
  {
   "cell_type": "markdown",
   "id": "2cb2bd64",
   "metadata": {},
   "source": [
    "# 3. 빅쿼리로 전송"
   ]
  },
  {
   "cell_type": "markdown",
   "id": "80368670",
   "metadata": {},
   "source": [
    "## 3-1. 빅쿼리로 전송"
   ]
  },
  {
   "cell_type": "code",
   "execution_count": 115,
   "id": "3e7c9093",
   "metadata": {
    "ExecuteTime": {
     "end_time": "2021-08-04T04:11:57.226509Z",
     "start_time": "2021-08-04T04:11:57.224275Z"
    }
   },
   "outputs": [],
   "source": [
    "from google.oauth2 import service_account\n",
    "import pandas_gbq"
   ]
  },
  {
   "cell_type": "code",
   "execution_count": 116,
   "id": "705e195a",
   "metadata": {
    "ExecuteTime": {
     "end_time": "2021-08-04T04:12:08.060171Z",
     "start_time": "2021-08-04T04:12:04.343983Z"
    }
   },
   "outputs": [
    {
     "name": "stderr",
     "output_type": "stream",
     "text": [
      "1it [00:03,  3.24s/it]"
     ]
    },
    {
     "name": "stdout",
     "output_type": "stream",
     "text": [
      "migration complete\n"
     ]
    },
    {
     "name": "stderr",
     "output_type": "stream",
     "text": [
      "\n"
     ]
    }
   ],
   "source": [
    "cd = service_account.Credentials.from_service_account_file(\n",
    "    '/Users/choeinbeom/Downloads/tidal-surf-302413-582aad3f1e46.json')\n",
    "project_id = 'tidal-surf-302413'\n",
    "destination_table = 'test_jaranda.reviews'\n",
    "df.to_gbq(destination_table,project_id,if_exists='append',credentials=cd) \n",
    "print('migration complete')"
   ]
  },
  {
   "cell_type": "markdown",
   "id": "70018707",
   "metadata": {},
   "source": [
    "## 3-2. 빅쿼리 데이터 로드 및 확인"
   ]
  },
  {
   "cell_type": "code",
   "execution_count": 117,
   "id": "ccca9f12",
   "metadata": {
    "ExecuteTime": {
     "end_time": "2021-08-04T04:12:09.668648Z",
     "start_time": "2021-08-04T04:12:09.666109Z"
    }
   },
   "outputs": [],
   "source": [
    "from google.cloud import bigquery"
   ]
  },
  {
   "cell_type": "code",
   "execution_count": 119,
   "id": "5147b03d",
   "metadata": {
    "ExecuteTime": {
     "end_time": "2021-08-04T04:12:20.743043Z",
     "start_time": "2021-08-04T04:12:16.308873Z"
    }
   },
   "outputs": [
    {
     "name": "stdout",
     "output_type": "stream",
     "text": [
      "(365, 6)\n",
      "title                   object\n",
      "user                    object\n",
      "date       datetime64[ns, UTC]\n",
      "stars                    int64\n",
      "comment                 object\n",
      "app                     object\n",
      "dtype: object\n"
     ]
    },
    {
     "data": {
      "text/html": [
       "<div>\n",
       "<style scoped>\n",
       "    .dataframe tbody tr th:only-of-type {\n",
       "        vertical-align: middle;\n",
       "    }\n",
       "\n",
       "    .dataframe tbody tr th {\n",
       "        vertical-align: top;\n",
       "    }\n",
       "\n",
       "    .dataframe thead th {\n",
       "        text-align: right;\n",
       "    }\n",
       "</style>\n",
       "<table border=\"1\" class=\"dataframe\">\n",
       "  <thead>\n",
       "    <tr style=\"text-align: right;\">\n",
       "      <th></th>\n",
       "      <th>title</th>\n",
       "      <th>user</th>\n",
       "      <th>date</th>\n",
       "      <th>stars</th>\n",
       "      <th>comment</th>\n",
       "      <th>app</th>\n",
       "    </tr>\n",
       "  </thead>\n",
       "  <tbody>\n",
       "    <tr>\n",
       "      <th>0</th>\n",
       "      <td>회원탈퇴</td>\n",
       "      <td>구름바이러스</td>\n",
       "      <td>2019-12-10 00:00:00+00:00</td>\n",
       "      <td>5</td>\n",
       "      <td>회원탈퇴 어떻게 하나요 선생님 지원하려다 앱 따로있는거 모르고 가입했는데</td>\n",
       "      <td>자란다</td>\n",
       "    </tr>\n",
       "    <tr>\n",
       "      <th>1</th>\n",
       "      <td>선생님들이 우수해요</td>\n",
       "      <td>nikiiiiaaaasss</td>\n",
       "      <td>2020-09-23 00:00:00+00:00</td>\n",
       "      <td>5</td>\n",
       "      <td>평균적으로 우수한 선생님이 많아요. 교사관리가\\n잘 되고있는것 같아요</td>\n",
       "      <td>자란다</td>\n",
       "    </tr>\n",
       "    <tr>\n",
       "      <th>2</th>\n",
       "      <td>좋아요</td>\n",
       "      <td>maum.c</td>\n",
       "      <td>2019-10-31 00:00:00+00:00</td>\n",
       "      <td>5</td>\n",
       "      <td>원래 쓰고 있었는데 앱 나오니 훨씬 편하고 좋아요 나름 꽤 초창기부터 써왔는데 점점...</td>\n",
       "      <td>자란다</td>\n",
       "    </tr>\n",
       "    <tr>\n",
       "      <th>3</th>\n",
       "      <td>덕분에 아이도 저도 잘 놀아요</td>\n",
       "      <td>Ameri.cano</td>\n",
       "      <td>2019-10-31 00:00:00+00:00</td>\n",
       "      <td>5</td>\n",
       "      <td>자란다 서비스를 쓴건 솔직히 아이를 위해서이기도 했지만, 저를 위해서 이기도 했어요...</td>\n",
       "      <td>자란다</td>\n",
       "    </tr>\n",
       "    <tr>\n",
       "      <th>4</th>\n",
       "      <td>자란다 앱 너무 편하네요</td>\n",
       "      <td>노수지</td>\n",
       "      <td>2019-10-31 00:00:00+00:00</td>\n",
       "      <td>5</td>\n",
       "      <td>예전에 웹으로 사용했었는데 정말 앱이 나와서 사용하기 편리해졌네요. 항상 느끼는거지...</td>\n",
       "      <td>자란다</td>\n",
       "    </tr>\n",
       "  </tbody>\n",
       "</table>\n",
       "</div>"
      ],
      "text/plain": [
       "              title            user                      date  stars  \\\n",
       "0              회원탈퇴          구름바이러스 2019-12-10 00:00:00+00:00      5   \n",
       "1        선생님들이 우수해요  nikiiiiaaaasss 2020-09-23 00:00:00+00:00      5   \n",
       "2               좋아요          maum.c 2019-10-31 00:00:00+00:00      5   \n",
       "3  덕분에 아이도 저도 잘 놀아요      Ameri.cano 2019-10-31 00:00:00+00:00      5   \n",
       "4     자란다 앱 너무 편하네요             노수지 2019-10-31 00:00:00+00:00      5   \n",
       "\n",
       "                                             comment  app  \n",
       "0           회원탈퇴 어떻게 하나요 선생님 지원하려다 앱 따로있는거 모르고 가입했는데  자란다  \n",
       "1             평균적으로 우수한 선생님이 많아요. 교사관리가\\n잘 되고있는것 같아요  자란다  \n",
       "2  원래 쓰고 있었는데 앱 나오니 훨씬 편하고 좋아요 나름 꽤 초창기부터 써왔는데 점점...  자란다  \n",
       "3  자란다 서비스를 쓴건 솔직히 아이를 위해서이기도 했지만, 저를 위해서 이기도 했어요...  자란다  \n",
       "4  예전에 웹으로 사용했었는데 정말 앱이 나와서 사용하기 편리해졌네요. 항상 느끼는거지...  자란다  "
      ]
     },
     "execution_count": 119,
     "metadata": {},
     "output_type": "execute_result"
    }
   ],
   "source": [
    "client = bigquery.Client (project = 'tidal-surf-302413' , credentials = cd) \n",
    "query = 'SELECT * FROM test_jaranda.reviews' \n",
    "\n",
    "df_result = client.query(query).to_dataframe()\n",
    "\n",
    "print(df_result.shape)\n",
    "print(df_result.dtypes)\n",
    "\n",
    "df_result.head()"
   ]
  },
  {
   "cell_type": "code",
   "execution_count": null,
   "id": "f9e2da31",
   "metadata": {},
   "outputs": [],
   "source": [
    "df_result.dr"
   ]
  }
 ],
 "metadata": {
  "hide_input": false,
  "kernelspec": {
   "display_name": "Python 3",
   "language": "python",
   "name": "python3"
  },
  "language_info": {
   "codemirror_mode": {
    "name": "ipython",
    "version": 3
   },
   "file_extension": ".py",
   "mimetype": "text/x-python",
   "name": "python",
   "nbconvert_exporter": "python",
   "pygments_lexer": "ipython3",
   "version": "3.8.8"
  },
  "varInspector": {
   "cols": {
    "lenName": 16,
    "lenType": 16,
    "lenVar": 40
   },
   "kernels_config": {
    "python": {
     "delete_cmd_postfix": "",
     "delete_cmd_prefix": "del ",
     "library": "var_list.py",
     "varRefreshCmd": "print(var_dic_list())"
    },
    "r": {
     "delete_cmd_postfix": ") ",
     "delete_cmd_prefix": "rm(",
     "library": "var_list.r",
     "varRefreshCmd": "cat(var_dic_list()) "
    }
   },
   "position": {
    "height": "300px",
    "left": "1422px",
    "right": "20px",
    "top": "120px",
    "width": "350px"
   },
   "types_to_exclude": [
    "module",
    "function",
    "builtin_function_or_method",
    "instance",
    "_Feature"
   ],
   "window_display": false
  }
 },
 "nbformat": 4,
 "nbformat_minor": 5
}
